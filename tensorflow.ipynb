{
  "nbformat": 4,
  "nbformat_minor": 0,
  "metadata": {
    "colab": {
      "name": "tensorflow.ipynb",
      "provenance": [],
      "authorship_tag": "ABX9TyONDm9JJvBq3pVDit9QTqn6",
      "include_colab_link": true
    },
    "kernelspec": {
      "name": "python3",
      "display_name": "Python 3"
    }
  },
  "cells": [
    {
      "cell_type": "markdown",
      "metadata": {
        "id": "view-in-github",
        "colab_type": "text"
      },
      "source": [
        "<a href=\"https://colab.research.google.com/github/pgs2285/Tensorflow_Colab/blob/main/tensorflow.ipynb\" target=\"_parent\"><img src=\"https://colab.research.google.com/assets/colab-badge.svg\" alt=\"Open In Colab\"/></a>"
      ]
    },
    {
      "cell_type": "code",
      "metadata": {
        "colab": {
          "base_uri": "https://localhost:8080/"
        },
        "id": "5B3Q-eEu3kVA",
        "outputId": "b63be00b-8b01-4d33-f2a8-b0f72a6c4a34"
      },
      "source": [
        "import tensorflow as tf\n",
        "\n",
        "a = tf.constant(120, name = \"a\")\n",
        "b = tf.constant(130, name = \"b\")\n",
        "c = tf.constant(140, name = \"c\")\n",
        "\n",
        "v = tf.Variable(0, name =\"v\") # 변수 v선언 초기값 0\n",
        "\n",
        "cal_op = a + b + c\n",
        "assign_op = v.assign(cal_op)\n",
        "\n",
        "print(int(assign_op))\n",
        "#실제 머신러닝에서는 학습할 매개변수를 변수에 저장에서 사용\n"
      ],
      "execution_count": null,
      "outputs": [
        {
          "output_type": "stream",
          "text": [
            "390\n"
          ],
          "name": "stdout"
        }
      ]
    },
    {
      "cell_type": "code",
      "metadata": {
        "id": "2-Zp6QEQ-eIo"
      },
      "source": [
        ""
      ],
      "execution_count": null,
      "outputs": []
    }
  ]
}